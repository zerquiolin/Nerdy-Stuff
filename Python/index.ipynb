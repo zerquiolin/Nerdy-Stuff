{
 "cells": [
  {
   "cell_type": "markdown",
   "source": [
    "# Hello\r\n"
   ],
   "metadata": {}
  },
  {
   "cell_type": "code",
   "execution_count": 3,
   "source": [
    "d = {'k1':[1,2,{'k2':['this is tricky',{'tough':[1,2,['hello']]}]}]}\r\n",
    "\r\n",
    "print(d['k1'][2]['k2'][1]['tough'][2])"
   ],
   "outputs": [
    {
     "output_type": "stream",
     "name": "stdout",
     "text": [
      "['hello']\n"
     ]
    }
   ],
   "metadata": {}
  },
  {
   "cell_type": "code",
   "execution_count": 5,
   "source": [
    "print( list('hello'))"
   ],
   "outputs": [
    {
     "output_type": "stream",
     "name": "stdout",
     "text": [
      "['h', 'e', 'l', 'l', 'o']\n"
     ]
    }
   ],
   "metadata": {}
  },
  {
   "cell_type": "code",
   "execution_count": 21,
   "source": [
    "def createEmployees( **args ):\r\n",
    "   print( args )\r\n",
    "\r\n",
    "printEmployees( e0 = 'Nadiv', e1 = 'Andres', e2 = 'David', e3 = 'Camila', e4 = 'Daniel',)"
   ],
   "outputs": [
    {
     "output_type": "stream",
     "name": "stdout",
     "text": [
      "{'e0': 'Nadiv', 'e1': 'Andres', 'e2': 'David', 'e3': 'Camila', 'e4': 'Daniel'}\n"
     ]
    }
   ],
   "metadata": {}
  },
  {
   "cell_type": "code",
   "execution_count": 14,
   "source": [
    "[3,3] in [3,3]"
   ],
   "outputs": [
    {
     "output_type": "execute_result",
     "data": {
      "text/plain": [
       "False"
      ]
     },
     "metadata": {},
     "execution_count": 14
    }
   ],
   "metadata": {}
  },
  {
   "cell_type": "code",
   "execution_count": 23,
   "source": [
    "nums = [1,2,3,4,5,6,7,8,9]\r\n",
    "\r\n",
    "print( list( map( lambda number: number ** 2, nums ) ) )\r\n",
    "\r\n",
    "print( nums )\r\n",
    "\r\n",
    "print( list( filter( lambda number: number if number % 2 == 0 else number ** 2, nums ) ) )\r\n",
    "\r\n",
    "print( nums )"
   ],
   "outputs": [
    {
     "output_type": "stream",
     "name": "stdout",
     "text": [
      "[1, 4, 9, 16, 25, 36, 49, 64, 81]\n",
      "[1, 2, 3, 4, 5, 6, 7, 8, 9]\n",
      "[1, 2, 3, 4, 5, 6, 7, 8, 9]\n"
     ]
    }
   ],
   "metadata": {}
  },
  {
   "cell_type": "code",
   "execution_count": 4,
   "source": [
    "def checkEven( number ):\r\n",
    "   return number % 2 == 0\r\n",
    "\r\n",
    "numsList = [1,2,3,4,5,6,7,8,9]\r\n",
    "evenNumsList = list( filter( checkEven, numsList ) )\r\n",
    "\r\n",
    "print( evenNumsList )\r\n",
    "# Output: [2,4,6,8]"
   ],
   "outputs": [
    {
     "output_type": "stream",
     "name": "stdout",
     "text": [
      "[2, 4, 6, 8]\n"
     ]
    }
   ],
   "metadata": {}
  },
  {
   "cell_type": "code",
   "execution_count": 5,
   "source": [
    "\"\"\" Global \"\"\"\r\n",
    "\r\n",
    "name = 'zerquiolin'\r\n",
    "\r\n",
    "def printName(name):\r\n",
    "\r\n",
    "   name = \"it'szerquiolin\" # Updating the global variable!\r\n",
    "\r\n",
    "   return name\r\n",
    "\r\n",
    "print( name ) # 'zerquiolin'\r\n",
    "name = printName(name)\r\n",
    "print( name ) # \"it'szerquiolin\""
   ],
   "outputs": [
    {
     "output_type": "stream",
     "name": "stdout",
     "text": [
      "zerquiolin\n"
     ]
    },
    {
     "output_type": "error",
     "ename": "TypeError",
     "evalue": "printName() missing 1 required positional argument: 'name'",
     "traceback": [
      "\u001b[1;31m---------------------------------------------------------------------------\u001b[0m",
      "\u001b[1;31mTypeError\u001b[0m                                 Traceback (most recent call last)",
      "\u001b[1;32mC:\\Users\\ZERQUI~1\\AppData\\Local\\Temp/ipykernel_8952/4176816665.py\u001b[0m in \u001b[0;36m<module>\u001b[1;34m\u001b[0m\n\u001b[0;32m     10\u001b[0m \u001b[1;33m\u001b[0m\u001b[0m\n\u001b[0;32m     11\u001b[0m \u001b[0mprint\u001b[0m\u001b[1;33m(\u001b[0m \u001b[0mname\u001b[0m \u001b[1;33m)\u001b[0m \u001b[1;31m# 'zerquiolin'\u001b[0m\u001b[1;33m\u001b[0m\u001b[1;33m\u001b[0m\u001b[0m\n\u001b[1;32m---> 12\u001b[1;33m \u001b[0mname\u001b[0m \u001b[1;33m=\u001b[0m \u001b[0mprintName\u001b[0m\u001b[1;33m(\u001b[0m\u001b[1;33m)\u001b[0m\u001b[1;33m\u001b[0m\u001b[1;33m\u001b[0m\u001b[0m\n\u001b[0m\u001b[0;32m     13\u001b[0m \u001b[0mprint\u001b[0m\u001b[1;33m(\u001b[0m \u001b[0mname\u001b[0m \u001b[1;33m)\u001b[0m \u001b[1;31m# \"it'szerquiolin\"\u001b[0m\u001b[1;33m\u001b[0m\u001b[1;33m\u001b[0m\u001b[0m\n",
      "\u001b[1;31mTypeError\u001b[0m: printName() missing 1 required positional argument: 'name'"
     ]
    }
   ],
   "metadata": {}
  }
 ],
 "metadata": {
  "interpreter": {
   "hash": "80fad40a0f9524af4c095928452445a144adab04fa83c0f39feea1dada34e332"
  },
  "kernelspec": {
   "display_name": "Python 3.9.6 64-bit",
   "name": "python3"
  },
  "language_info": {
   "codemirror_mode": {
    "name": "ipython",
    "version": 3
   },
   "file_extension": ".py",
   "mimetype": "text/x-python",
   "name": "python",
   "nbconvert_exporter": "python",
   "pygments_lexer": "ipython3",
   "version": "3.9.6"
  },
  "orig_nbformat": 4
 },
 "nbformat": 4,
 "nbformat_minor": 2
}