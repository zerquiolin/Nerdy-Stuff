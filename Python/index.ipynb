{
 "cells": [
  {
   "cell_type": "markdown",
   "metadata": {},
   "source": [
    "# Hello\r\n"
   ]
  },
  {
   "cell_type": "code",
   "execution_count": 3,
   "metadata": {},
   "outputs": [
    {
     "name": "stdout",
     "output_type": "stream",
     "text": [
      "['hello']\n"
     ]
    }
   ],
   "source": [
    "d = {'k1':[1,2,{'k2':['this is tricky',{'tough':[1,2,['hello']]}]}]}\r\n",
    "\r\n",
    "print(d['k1'][2]['k2'][1]['tough'][2])"
   ]
  },
  {
   "cell_type": "code",
   "execution_count": 15,
   "metadata": {},
   "outputs": [
    {
     "name": "stdout",
     "output_type": "stream",
     "text": [
      "('Zerquiolin', 911)\n"
     ]
    }
   ],
   "source": [
    "workers = [ ('Zerquiolin', 911), ('Nadiv', 900), ('David', 850), ('Nicolas', 800) ]\r\n",
    "\r\n",
    "def employee_of_the_month( employees ):\r\n",
    "\r\n",
    "   maxHours = 0\r\n",
    "   winer = ''\r\n",
    "\r\n",
    "   for employee, hours in  employees:\r\n",
    "      if hours > maxHours:\r\n",
    "         winer = employee\r\n",
    "         maxHours = hours\r\n",
    "\r\n",
    "   return (winer, maxHours)\r\n",
    "\r\n",
    "results = employee_of_the_month(workers)\r\n",
    "\r\n",
    "print(results)"
   ]
  },
  {
   "cell_type": "code",
   "execution_count": 5,
   "metadata": {},
   "outputs": [
    {
     "name": "stdout",
     "output_type": "stream",
     "text": [
      "['h', 'e', 'l', 'l', 'o']\n"
     ]
    }
   ],
   "source": [
    "print( list('hello'))"
   ]
  },
  {
   "cell_type": "code",
   "execution_count": 13,
   "metadata": {},
   "outputs": [
    {
     "name": "stdout",
     "output_type": "stream",
     "text": [
      "HeLlO WoRlD!\n"
     ]
    }
   ],
   "source": [
    "def myfunc( word ):\r\n",
    "    \r\n",
    "    matchingString = ''\r\n",
    "    \r\n",
    "    for index,letter in enumerate(list(word)):\r\n",
    "\r\n",
    "\r\n",
    "        if index % 2 == 0:\r\n",
    "            matchingString += letter.upper()\r\n",
    "        else:\r\n",
    "            matchingString += letter.lower()\r\n",
    "    \r\n",
    "    return matchingString\r\n",
    "\r\n",
    "print( myfunc('Hello World!') )"
   ]
  },
  {
   "cell_type": "code",
   "execution_count": 21,
   "metadata": {},
   "outputs": [
    {
     "name": "stdout",
     "output_type": "stream",
     "text": [
      "{'e0': 'Nadiv', 'e1': 'Andres', 'e2': 'David', 'e3': 'Camila', 'e4': 'Daniel'}\n"
     ]
    }
   ],
   "source": [
    "def createEmployees( **args ):\r\n",
    "   print( args )\r\n",
    "\r\n",
    "printEmployees( e0 = 'Nadiv', e1 = 'Andres', e2 = 'David', e3 = 'Camila', e4 = 'Daniel',)"
   ]
  }
 ],
 "metadata": {
  "interpreter": {
   "hash": "80fad40a0f9524af4c095928452445a144adab04fa83c0f39feea1dada34e332"
  },
  "kernelspec": {
   "display_name": "Python 3.9.6 64-bit",
   "name": "python3"
  },
  "language_info": {
   "codemirror_mode": {
    "name": "ipython",
    "version": 3
   },
   "file_extension": ".py",
   "mimetype": "text/x-python",
   "name": "python",
   "nbconvert_exporter": "python",
   "pygments_lexer": "ipython3",
   "version": "3.9.6"
  },
  "orig_nbformat": 4
 },
 "nbformat": 4,
 "nbformat_minor": 2
}