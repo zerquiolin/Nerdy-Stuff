{
 "metadata": {
  "language_info": {
   "codemirror_mode": {
    "name": "ipython",
    "version": 3
   },
   "file_extension": ".py",
   "mimetype": "text/x-python",
   "name": "python",
   "nbconvert_exporter": "python",
   "pygments_lexer": "ipython3",
   "version": "3.9.6"
  },
  "orig_nbformat": 4,
  "kernelspec": {
   "name": "python3",
   "display_name": "Python 3.9.6 64-bit"
  },
  "interpreter": {
   "hash": "82043e9c6bb60dc85d822aa1bc58ee389a3953da33585b1a533ca4c796d4eb5e"
  }
 },
 "nbformat": 4,
 "nbformat_minor": 2,
 "cells": [
  {
   "cell_type": "code",
   "execution_count": 4,
   "metadata": {},
   "outputs": [],
   "source": [
    "greetings = \"Hello World!\""
   ]
  },
  {
   "cell_type": "code",
   "execution_count": 5,
   "metadata": {},
   "outputs": [],
   "source": [
    "slicedGreetings = greetings[::2]"
   ]
  },
  {
   "cell_type": "code",
   "execution_count": 6,
   "metadata": {},
   "outputs": [
    {
     "output_type": "stream",
     "name": "stdout",
     "text": [
      "HloWrd\n"
     ]
    }
   ],
   "source": [
    "print(slicedGreetings)"
   ]
  },
  {
   "cell_type": "code",
   "execution_count": 7,
   "metadata": {},
   "outputs": [
    {
     "output_type": "stream",
     "name": "stdout",
     "text": [
      "Good Morning zerquiolin!\n"
     ]
    }
   ],
   "source": [
    "morning = \"Good Morning \"\n",
    "name = \"zerquiolin!\"\n",
    "greetings = morning + name\n",
    "print(greetings) # 'Good Morning zerquiolin!'"
   ]
  },
  {
   "cell_type": "code",
   "execution_count": 8,
   "metadata": {},
   "outputs": [
    {
     "output_type": "stream",
     "name": "stdout",
     "text": [
      "zerquiolinzerquiolin\n"
     ]
    }
   ],
   "source": [
    "user = \"zerquiolin\"\n",
    "print(user * 2)"
   ]
  },
  {
   "cell_type": "code",
   "execution_count": 9,
   "metadata": {},
   "outputs": [
    {
     "output_type": "stream",
     "name": "stdout",
     "text": [
      "zerquiolin is godzerquiolin is god\nzerquiolin is godzerquiolin is god\n"
     ]
    }
   ],
   "source": [
    "user = \"zerquiolin is god\"\n",
    "splittedUser = user.split()\n",
    "print(user * 2) # ['zerquiolin', 'is', 'god']\n",
    "\n",
    "splittedUser = user.split('i')\n",
    "print(user * 2) # ['zerqu', 'ol', 'n ', 's god']"
   ]
  },
  {
   "cell_type": "code",
   "execution_count": 10,
   "metadata": {},
   "outputs": [
    {
     "output_type": "stream",
     "name": "stdout",
     "text": [
      "['zerquiolin', 'is', 'god', 'zerquiolin', 'is', 'god']\n['zerqu', 'ol', 'n ', 's god', 'zerqu', 'ol', 'n ', 's god']\n"
     ]
    }
   ],
   "source": [
    "user = \"zerquiolin is god\"\n",
    "splittedUser = user.split()\n",
    "print(splittedUser * 2) # ['zerquiolin', 'is', 'god']\n",
    "\n",
    "splittedUser = user.split('i')\n",
    "print(splittedUser * 2) # ['zerqu', 'ol', 'n ', 's god']"
   ]
  },
  {
   "cell_type": "code",
   "execution_count": 11,
   "metadata": {},
   "outputs": [
    {
     "output_type": "stream",
     "name": "stdout",
     "text": [
      "['zerquiolin', 'is', 'god']\n['zerqu', 'ol', 'n ', 's god']\n"
     ]
    }
   ],
   "source": [
    "user = \"zerquiolin is god\"\n",
    "splittedUser = user.split()\n",
    "print(splittedUser) # ['zerquiolin', 'is', 'god']\n",
    "\n",
    "splittedUser = user.split('i')\n",
    "print(splittedUser) # ['zerqu', 'ol', 'n ', 's god']"
   ]
  },
  {
   "cell_type": "code",
   "execution_count": null,
   "metadata": {},
   "outputs": [],
   "source": []
  }
 ]
}